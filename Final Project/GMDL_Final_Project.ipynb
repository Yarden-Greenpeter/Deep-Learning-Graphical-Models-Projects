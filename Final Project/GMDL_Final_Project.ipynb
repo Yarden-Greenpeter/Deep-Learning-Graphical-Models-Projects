{
  "nbformat": 4,
  "nbformat_minor": 0,
  "metadata": {
    "colab": {
      "provenance": [],
      "gpuType": "T4"
    },
    "kernelspec": {
      "name": "python3",
      "display_name": "Python 3"
    },
    "language_info": {
      "name": "python"
    },
    "accelerator": "GPU",
    "widgets": {
      "application/vnd.jupyter.widget-state+json": {
        "f2ff5556f50e473a8478494ab2248b7d": {
          "model_module": "@jupyter-widgets/controls",
          "model_name": "HBoxModel",
          "model_module_version": "1.5.0",
          "state": {
            "_dom_classes": [],
            "_model_module": "@jupyter-widgets/controls",
            "_model_module_version": "1.5.0",
            "_model_name": "HBoxModel",
            "_view_count": null,
            "_view_module": "@jupyter-widgets/controls",
            "_view_module_version": "1.5.0",
            "_view_name": "HBoxView",
            "box_style": "",
            "children": [
              "IPY_MODEL_9d93e46a79254e3ebb63097d2d80431a",
              "IPY_MODEL_8c0aecbda93446d393abd3d126378800",
              "IPY_MODEL_958a6cce96f045f4bd4ece203c3d19c5"
            ],
            "layout": "IPY_MODEL_17f919b523f84bf3a18da48289c71e7e"
          }
        },
        "9d93e46a79254e3ebb63097d2d80431a": {
          "model_module": "@jupyter-widgets/controls",
          "model_name": "HTMLModel",
          "model_module_version": "1.5.0",
          "state": {
            "_dom_classes": [],
            "_model_module": "@jupyter-widgets/controls",
            "_model_module_version": "1.5.0",
            "_model_name": "HTMLModel",
            "_view_count": null,
            "_view_module": "@jupyter-widgets/controls",
            "_view_module_version": "1.5.0",
            "_view_name": "HTMLView",
            "description": "",
            "description_tooltip": null,
            "layout": "IPY_MODEL_66ec8abb69ce4b03922d76cb3106398e",
            "placeholder": "​",
            "style": "IPY_MODEL_bccb6c0bffa44570ba5e5cfe908d9251",
            "value": "100%"
          }
        },
        "8c0aecbda93446d393abd3d126378800": {
          "model_module": "@jupyter-widgets/controls",
          "model_name": "FloatProgressModel",
          "model_module_version": "1.5.0",
          "state": {
            "_dom_classes": [],
            "_model_module": "@jupyter-widgets/controls",
            "_model_module_version": "1.5.0",
            "_model_name": "FloatProgressModel",
            "_view_count": null,
            "_view_module": "@jupyter-widgets/controls",
            "_view_module_version": "1.5.0",
            "_view_name": "ProgressView",
            "bar_style": "success",
            "description": "",
            "description_tooltip": null,
            "layout": "IPY_MODEL_4ad03c237ae746bb8bab2e1795caf0be",
            "max": 15,
            "min": 0,
            "orientation": "horizontal",
            "style": "IPY_MODEL_75c4b052f0284525b0e6059d5df8819e",
            "value": 15
          }
        },
        "958a6cce96f045f4bd4ece203c3d19c5": {
          "model_module": "@jupyter-widgets/controls",
          "model_name": "HTMLModel",
          "model_module_version": "1.5.0",
          "state": {
            "_dom_classes": [],
            "_model_module": "@jupyter-widgets/controls",
            "_model_module_version": "1.5.0",
            "_model_name": "HTMLModel",
            "_view_count": null,
            "_view_module": "@jupyter-widgets/controls",
            "_view_module_version": "1.5.0",
            "_view_name": "HTMLView",
            "description": "",
            "description_tooltip": null,
            "layout": "IPY_MODEL_3aaf95122ad2468fafb8338448c496ac",
            "placeholder": "​",
            "style": "IPY_MODEL_e635488c28884a449d406ddbce8af8c3",
            "value": " 15/15 [02:16&lt;00:00,  9.52s/it]"
          }
        },
        "17f919b523f84bf3a18da48289c71e7e": {
          "model_module": "@jupyter-widgets/base",
          "model_name": "LayoutModel",
          "model_module_version": "1.2.0",
          "state": {
            "_model_module": "@jupyter-widgets/base",
            "_model_module_version": "1.2.0",
            "_model_name": "LayoutModel",
            "_view_count": null,
            "_view_module": "@jupyter-widgets/base",
            "_view_module_version": "1.2.0",
            "_view_name": "LayoutView",
            "align_content": null,
            "align_items": null,
            "align_self": null,
            "border": null,
            "bottom": null,
            "display": null,
            "flex": null,
            "flex_flow": null,
            "grid_area": null,
            "grid_auto_columns": null,
            "grid_auto_flow": null,
            "grid_auto_rows": null,
            "grid_column": null,
            "grid_gap": null,
            "grid_row": null,
            "grid_template_areas": null,
            "grid_template_columns": null,
            "grid_template_rows": null,
            "height": null,
            "justify_content": null,
            "justify_items": null,
            "left": null,
            "margin": null,
            "max_height": null,
            "max_width": null,
            "min_height": null,
            "min_width": null,
            "object_fit": null,
            "object_position": null,
            "order": null,
            "overflow": null,
            "overflow_x": null,
            "overflow_y": null,
            "padding": null,
            "right": null,
            "top": null,
            "visibility": null,
            "width": null
          }
        },
        "66ec8abb69ce4b03922d76cb3106398e": {
          "model_module": "@jupyter-widgets/base",
          "model_name": "LayoutModel",
          "model_module_version": "1.2.0",
          "state": {
            "_model_module": "@jupyter-widgets/base",
            "_model_module_version": "1.2.0",
            "_model_name": "LayoutModel",
            "_view_count": null,
            "_view_module": "@jupyter-widgets/base",
            "_view_module_version": "1.2.0",
            "_view_name": "LayoutView",
            "align_content": null,
            "align_items": null,
            "align_self": null,
            "border": null,
            "bottom": null,
            "display": null,
            "flex": null,
            "flex_flow": null,
            "grid_area": null,
            "grid_auto_columns": null,
            "grid_auto_flow": null,
            "grid_auto_rows": null,
            "grid_column": null,
            "grid_gap": null,
            "grid_row": null,
            "grid_template_areas": null,
            "grid_template_columns": null,
            "grid_template_rows": null,
            "height": null,
            "justify_content": null,
            "justify_items": null,
            "left": null,
            "margin": null,
            "max_height": null,
            "max_width": null,
            "min_height": null,
            "min_width": null,
            "object_fit": null,
            "object_position": null,
            "order": null,
            "overflow": null,
            "overflow_x": null,
            "overflow_y": null,
            "padding": null,
            "right": null,
            "top": null,
            "visibility": null,
            "width": null
          }
        },
        "bccb6c0bffa44570ba5e5cfe908d9251": {
          "model_module": "@jupyter-widgets/controls",
          "model_name": "DescriptionStyleModel",
          "model_module_version": "1.5.0",
          "state": {
            "_model_module": "@jupyter-widgets/controls",
            "_model_module_version": "1.5.0",
            "_model_name": "DescriptionStyleModel",
            "_view_count": null,
            "_view_module": "@jupyter-widgets/base",
            "_view_module_version": "1.2.0",
            "_view_name": "StyleView",
            "description_width": ""
          }
        },
        "4ad03c237ae746bb8bab2e1795caf0be": {
          "model_module": "@jupyter-widgets/base",
          "model_name": "LayoutModel",
          "model_module_version": "1.2.0",
          "state": {
            "_model_module": "@jupyter-widgets/base",
            "_model_module_version": "1.2.0",
            "_model_name": "LayoutModel",
            "_view_count": null,
            "_view_module": "@jupyter-widgets/base",
            "_view_module_version": "1.2.0",
            "_view_name": "LayoutView",
            "align_content": null,
            "align_items": null,
            "align_self": null,
            "border": null,
            "bottom": null,
            "display": null,
            "flex": null,
            "flex_flow": null,
            "grid_area": null,
            "grid_auto_columns": null,
            "grid_auto_flow": null,
            "grid_auto_rows": null,
            "grid_column": null,
            "grid_gap": null,
            "grid_row": null,
            "grid_template_areas": null,
            "grid_template_columns": null,
            "grid_template_rows": null,
            "height": null,
            "justify_content": null,
            "justify_items": null,
            "left": null,
            "margin": null,
            "max_height": null,
            "max_width": null,
            "min_height": null,
            "min_width": null,
            "object_fit": null,
            "object_position": null,
            "order": null,
            "overflow": null,
            "overflow_x": null,
            "overflow_y": null,
            "padding": null,
            "right": null,
            "top": null,
            "visibility": null,
            "width": null
          }
        },
        "75c4b052f0284525b0e6059d5df8819e": {
          "model_module": "@jupyter-widgets/controls",
          "model_name": "ProgressStyleModel",
          "model_module_version": "1.5.0",
          "state": {
            "_model_module": "@jupyter-widgets/controls",
            "_model_module_version": "1.5.0",
            "_model_name": "ProgressStyleModel",
            "_view_count": null,
            "_view_module": "@jupyter-widgets/base",
            "_view_module_version": "1.2.0",
            "_view_name": "StyleView",
            "bar_color": null,
            "description_width": ""
          }
        },
        "3aaf95122ad2468fafb8338448c496ac": {
          "model_module": "@jupyter-widgets/base",
          "model_name": "LayoutModel",
          "model_module_version": "1.2.0",
          "state": {
            "_model_module": "@jupyter-widgets/base",
            "_model_module_version": "1.2.0",
            "_model_name": "LayoutModel",
            "_view_count": null,
            "_view_module": "@jupyter-widgets/base",
            "_view_module_version": "1.2.0",
            "_view_name": "LayoutView",
            "align_content": null,
            "align_items": null,
            "align_self": null,
            "border": null,
            "bottom": null,
            "display": null,
            "flex": null,
            "flex_flow": null,
            "grid_area": null,
            "grid_auto_columns": null,
            "grid_auto_flow": null,
            "grid_auto_rows": null,
            "grid_column": null,
            "grid_gap": null,
            "grid_row": null,
            "grid_template_areas": null,
            "grid_template_columns": null,
            "grid_template_rows": null,
            "height": null,
            "justify_content": null,
            "justify_items": null,
            "left": null,
            "margin": null,
            "max_height": null,
            "max_width": null,
            "min_height": null,
            "min_width": null,
            "object_fit": null,
            "object_position": null,
            "order": null,
            "overflow": null,
            "overflow_x": null,
            "overflow_y": null,
            "padding": null,
            "right": null,
            "top": null,
            "visibility": null,
            "width": null
          }
        },
        "e635488c28884a449d406ddbce8af8c3": {
          "model_module": "@jupyter-widgets/controls",
          "model_name": "DescriptionStyleModel",
          "model_module_version": "1.5.0",
          "state": {
            "_model_module": "@jupyter-widgets/controls",
            "_model_module_version": "1.5.0",
            "_model_name": "DescriptionStyleModel",
            "_view_count": null,
            "_view_module": "@jupyter-widgets/base",
            "_view_module_version": "1.2.0",
            "_view_name": "StyleView",
            "description_width": ""
          }
        }
      }
    }
  },
  "cells": [
    {
      "cell_type": "markdown",
      "source": [
        "# **Final Project**"
      ],
      "metadata": {
        "id": "gL-6tHo5kZWO"
      }
    },
    {
      "cell_type": "markdown",
      "source": [
        "Yael Zorea - 209308675\n",
        "\n",
        "Ilay Yoeli - 318260965\n",
        "\n",
        "Yarden Greenpeter - 318517653"
      ],
      "metadata": {
        "id": "JzzweSE0kYXA"
      }
    },
    {
      "cell_type": "code",
      "source": [
        "import torch\n",
        "import torch.nn as nn\n",
        "import torch.optim as optim\n",
        "import torchvision\n",
        "from torchvision import datasets, transforms\n",
        "from torchvision.datasets import MNIST, CIFAR10, FashionMNIST\n",
        "from torch.utils.data import DataLoader, random_split, Subset, ConcatDataset, Dataset\n",
        "import torch.nn.functional as F\n",
        "import numpy as np\n",
        "from sklearn.metrics import confusion_matrix\n",
        "import matplotlib.pyplot as plt\n",
        "import seaborn as sns\n",
        "from tqdm.auto import tqdm\n",
        "\n",
        "device = torch.device(\"cuda\" if torch.cuda.is_available() else \"cpu\")\n",
        "\n",
        "# Set random seed for reproducibility\n",
        "torch.manual_seed(42)\n",
        "np.random.seed(42)"
      ],
      "metadata": {
        "id": "ygYSHUzoQ9g4"
      },
      "execution_count": 1,
      "outputs": []
    },
    {
      "cell_type": "code",
      "source": [
        "# Hyperparameters\n",
        "learning_rate = 0.01\n",
        "batch_size = 1024 # large batchsize for inference is recommended\n",
        "number_of_epochs = 5\n",
        "base_temperature = 1.5 # Initial temperature parameter for temperature scaling\n",
        "boundary_threshold = 0.85\n",
        "is_training = False  # Set to False for training, True for evaluation only"
      ],
      "metadata": {
        "id": "dkuUeLmZVyS1"
      },
      "execution_count": 2,
      "outputs": []
    },
    {
      "cell_type": "code",
      "source": [
        "# OSR Dataset template\n",
        "class CombinedDataset(Dataset):\n",
        "    def __init__(self, mnist, ood, transform_mnist=None, transform_ood=None):\n",
        "        self.mnist = mnist\n",
        "        self.ood = ood\n",
        "        # transforms could be defined either here or when you init each dataset.\n",
        "        self.transform_mnist = transform_mnist\n",
        "        self.transform_ood = transform_ood\n",
        "\n",
        "    def __len__(self):\n",
        "        # combined length of MNIST and OOD\n",
        "        return len(self.mnist) + len(self.ood)\n",
        "\n",
        "    def __getitem__(self, idx):\n",
        "        if idx < len(self.mnist):\n",
        "            # if index is within the range of MNIST, return MNIST data and label\n",
        "            data, label = self.mnist[idx]\n",
        "            if self.transform_mnist:\n",
        "                data = self.transform_mnist(data)\n",
        "            return data, label\n",
        "        else:\n",
        "            # if index is beyond the range of MNIST, return OOD data and 10 as label\n",
        "            data, _ = self.ood[idx - len(self.mnist)]  # adjust index for OOD\n",
        "            if self.transform_ood:\n",
        "                data = self.transform_ood(data)\n",
        "            return data, 10  # OOD label is always 10\n",
        "\n",
        "\n",
        "# Load the MNIST and OOD datasets\n",
        "# Define the transformations\n",
        "mnist_train_transform = transforms.Compose([\n",
        "    transforms.Resize((28, 28)),\n",
        "    transforms.RandomRotation(10),\n",
        "    transforms.ColorJitter(brightness=0.2, contrast=0.2),\n",
        "    transforms.ToTensor(),\n",
        "    transforms.Normalize((0.1307,), (0.3081,)),\n",
        "    transforms.Lambda(lambda x: x + 0.5 * torch.randn_like(x))  # Gaussian noise\n",
        "])\n",
        "\n",
        "mnist_test_transform = transforms.Compose([\n",
        "    transforms.Resize((28, 28)),\n",
        "    transforms.ToTensor(),\n",
        "    transforms.Normalize((0.1307,), (0.3081,))\n",
        "])\n",
        "\n",
        "ood_transform = transforms.Compose([\n",
        "    transforms.Resize((28, 28)),\n",
        "    transforms.Grayscale(num_output_channels=1),\n",
        "    transforms.ToTensor(),\n",
        "    transforms.Normalize(mean=[0], std=[1])\n",
        "])\n",
        "\n",
        "mnist_train = MNIST(root='./data', train=False, download=True, transform=mnist_train_transform)\n",
        "mnist_test = MNIST(root='./data', train=False, download=True, transform=mnist_test_transform)\n",
        "ood = FashionMNIST(root='./data', train=False, download=True, transform=ood_transform)\n",
        "\n",
        "# Split training data into train and validation sets\n",
        "train_size = int(0.8 * len(mnist_train))\n",
        "val_size = len(mnist_train) - train_size\n",
        "train_dataset, val_dataset = random_split(mnist_train, [train_size, val_size])\n",
        "\n",
        "# Combine the datasets\n",
        "combined_ds = CombinedDataset(mnist_test, ood)\n",
        "# Create data loaders\n",
        "comb_test_data_loader = DataLoader(combined_ds, batch_size=batch_size, shuffle=False)\n",
        "train_loader = DataLoader(train_dataset, batch_size=batch_size, shuffle=True)\n",
        "val_loader = DataLoader(val_dataset, batch_size=batch_size)\n",
        "mnist_test_data_loader = DataLoader(mnist_test, batch_size=batch_size, shuffle=True)"
      ],
      "metadata": {
        "collapsed": true,
        "id": "jWP76eZvyxQu",
        "colab": {
          "base_uri": "https://localhost:8080/"
        },
        "outputId": "9520d6d3-8519-427e-b042-df088d622fba"
      },
      "execution_count": 3,
      "outputs": [
        {
          "output_type": "stream",
          "name": "stdout",
          "text": [
            "Downloading http://yann.lecun.com/exdb/mnist/train-images-idx3-ubyte.gz\n",
            "Failed to download (trying next):\n",
            "HTTP Error 403: Forbidden\n",
            "\n",
            "Downloading https://ossci-datasets.s3.amazonaws.com/mnist/train-images-idx3-ubyte.gz\n",
            "Downloading https://ossci-datasets.s3.amazonaws.com/mnist/train-images-idx3-ubyte.gz to ./data/MNIST/raw/train-images-idx3-ubyte.gz\n"
          ]
        },
        {
          "output_type": "stream",
          "name": "stderr",
          "text": [
            "100%|██████████| 9912422/9912422 [00:00<00:00, 36139719.24it/s]\n"
          ]
        },
        {
          "output_type": "stream",
          "name": "stdout",
          "text": [
            "Extracting ./data/MNIST/raw/train-images-idx3-ubyte.gz to ./data/MNIST/raw\n",
            "\n",
            "Downloading http://yann.lecun.com/exdb/mnist/train-labels-idx1-ubyte.gz\n",
            "Failed to download (trying next):\n",
            "HTTP Error 403: Forbidden\n",
            "\n",
            "Downloading https://ossci-datasets.s3.amazonaws.com/mnist/train-labels-idx1-ubyte.gz\n",
            "Downloading https://ossci-datasets.s3.amazonaws.com/mnist/train-labels-idx1-ubyte.gz to ./data/MNIST/raw/train-labels-idx1-ubyte.gz\n"
          ]
        },
        {
          "output_type": "stream",
          "name": "stderr",
          "text": [
            "100%|██████████| 28881/28881 [00:00<00:00, 1062323.57it/s]\n"
          ]
        },
        {
          "output_type": "stream",
          "name": "stdout",
          "text": [
            "Extracting ./data/MNIST/raw/train-labels-idx1-ubyte.gz to ./data/MNIST/raw\n",
            "\n",
            "Downloading http://yann.lecun.com/exdb/mnist/t10k-images-idx3-ubyte.gz\n",
            "Failed to download (trying next):\n",
            "HTTP Error 403: Forbidden\n",
            "\n",
            "Downloading https://ossci-datasets.s3.amazonaws.com/mnist/t10k-images-idx3-ubyte.gz\n",
            "Downloading https://ossci-datasets.s3.amazonaws.com/mnist/t10k-images-idx3-ubyte.gz to ./data/MNIST/raw/t10k-images-idx3-ubyte.gz\n"
          ]
        },
        {
          "output_type": "stream",
          "name": "stderr",
          "text": [
            "100%|██████████| 1648877/1648877 [00:00<00:00, 9122290.73it/s]\n"
          ]
        },
        {
          "output_type": "stream",
          "name": "stdout",
          "text": [
            "Extracting ./data/MNIST/raw/t10k-images-idx3-ubyte.gz to ./data/MNIST/raw\n",
            "\n",
            "Downloading http://yann.lecun.com/exdb/mnist/t10k-labels-idx1-ubyte.gz\n",
            "Failed to download (trying next):\n",
            "HTTP Error 403: Forbidden\n",
            "\n",
            "Downloading https://ossci-datasets.s3.amazonaws.com/mnist/t10k-labels-idx1-ubyte.gz\n",
            "Downloading https://ossci-datasets.s3.amazonaws.com/mnist/t10k-labels-idx1-ubyte.gz to ./data/MNIST/raw/t10k-labels-idx1-ubyte.gz\n"
          ]
        },
        {
          "output_type": "stream",
          "name": "stderr",
          "text": [
            "100%|██████████| 4542/4542 [00:00<00:00, 1835311.06it/s]\n"
          ]
        },
        {
          "output_type": "stream",
          "name": "stdout",
          "text": [
            "Extracting ./data/MNIST/raw/t10k-labels-idx1-ubyte.gz to ./data/MNIST/raw\n",
            "\n",
            "Downloading http://fashion-mnist.s3-website.eu-central-1.amazonaws.com/train-images-idx3-ubyte.gz\n",
            "Downloading http://fashion-mnist.s3-website.eu-central-1.amazonaws.com/train-images-idx3-ubyte.gz to ./data/FashionMNIST/raw/train-images-idx3-ubyte.gz\n"
          ]
        },
        {
          "output_type": "stream",
          "name": "stderr",
          "text": [
            "100%|██████████| 26421880/26421880 [00:01<00:00, 13225414.69it/s]\n"
          ]
        },
        {
          "output_type": "stream",
          "name": "stdout",
          "text": [
            "Extracting ./data/FashionMNIST/raw/train-images-idx3-ubyte.gz to ./data/FashionMNIST/raw\n",
            "\n",
            "Downloading http://fashion-mnist.s3-website.eu-central-1.amazonaws.com/train-labels-idx1-ubyte.gz\n",
            "Downloading http://fashion-mnist.s3-website.eu-central-1.amazonaws.com/train-labels-idx1-ubyte.gz to ./data/FashionMNIST/raw/train-labels-idx1-ubyte.gz\n"
          ]
        },
        {
          "output_type": "stream",
          "name": "stderr",
          "text": [
            "100%|██████████| 29515/29515 [00:00<00:00, 269014.04it/s]\n"
          ]
        },
        {
          "output_type": "stream",
          "name": "stdout",
          "text": [
            "Extracting ./data/FashionMNIST/raw/train-labels-idx1-ubyte.gz to ./data/FashionMNIST/raw\n",
            "\n",
            "Downloading http://fashion-mnist.s3-website.eu-central-1.amazonaws.com/t10k-images-idx3-ubyte.gz\n",
            "Downloading http://fashion-mnist.s3-website.eu-central-1.amazonaws.com/t10k-images-idx3-ubyte.gz to ./data/FashionMNIST/raw/t10k-images-idx3-ubyte.gz\n"
          ]
        },
        {
          "output_type": "stream",
          "name": "stderr",
          "text": [
            "100%|██████████| 4422102/4422102 [00:00<00:00, 4995021.88it/s]\n"
          ]
        },
        {
          "output_type": "stream",
          "name": "stdout",
          "text": [
            "Extracting ./data/FashionMNIST/raw/t10k-images-idx3-ubyte.gz to ./data/FashionMNIST/raw\n",
            "\n",
            "Downloading http://fashion-mnist.s3-website.eu-central-1.amazonaws.com/t10k-labels-idx1-ubyte.gz\n",
            "Downloading http://fashion-mnist.s3-website.eu-central-1.amazonaws.com/t10k-labels-idx1-ubyte.gz to ./data/FashionMNIST/raw/t10k-labels-idx1-ubyte.gz\n"
          ]
        },
        {
          "output_type": "stream",
          "name": "stderr",
          "text": [
            "100%|██████████| 5148/5148 [00:00<00:00, 5700178.72it/s]"
          ]
        },
        {
          "output_type": "stream",
          "name": "stdout",
          "text": [
            "Extracting ./data/FashionMNIST/raw/t10k-labels-idx1-ubyte.gz to ./data/FashionMNIST/raw\n",
            "\n"
          ]
        },
        {
          "output_type": "stream",
          "name": "stderr",
          "text": [
            "\n"
          ]
        }
      ]
    },
    {
      "cell_type": "code",
      "source": [
        "# Base model\n",
        "class BaselineAutoencoder(nn.Module):\n",
        "    def __init__(self):\n",
        "        super(BaselineAutoencoder, self).__init__()\n",
        "\n",
        "        # Encoder\n",
        "        self.encoder = nn.Sequential(\n",
        "            nn.Conv2d(1, 16, 3, stride=2, padding=1),  # 14x14\n",
        "            nn.ReLU(),\n",
        "            nn.Conv2d(16, 32, 3, stride=2, padding=1),  # 7x7\n",
        "            nn.ReLU(),\n",
        "            nn.Conv2d(32, 64, 3, stride=1, padding=1),  # 7x7\n",
        "            nn.ReLU(),\n",
        "            nn.Flatten(),\n",
        "            nn.Linear(64 * 7 * 7, 128),\n",
        "            nn.ReLU()\n",
        "        )\n",
        "\n",
        "        # Decoder\n",
        "        self.decoder = nn.Sequential(\n",
        "            nn.Linear(128, 64 * 7 * 7),\n",
        "            nn.ReLU(),\n",
        "            nn.Unflatten(1, (64, 7, 7)),\n",
        "            nn.ConvTranspose2d(64, 32, 3, stride=1, padding=1),\n",
        "            nn.ReLU(),\n",
        "            nn.ConvTranspose2d(32, 16, 3, stride=2, padding=1, output_padding=1),\n",
        "            nn.ReLU(),\n",
        "            nn.ConvTranspose2d(16, 1, 3, stride=2, padding=1, output_padding=1),\n",
        "            nn.Sigmoid()\n",
        "        )\n",
        "\n",
        "        # Classifier\n",
        "        self.classifier = nn.Linear(128, 10)  # 10 digits\n",
        "\n",
        "    def forward(self, x):\n",
        "        encoded = self.encoder(x)\n",
        "        decoded = self.decoder(encoded)\n",
        "        classified = self.classifier(encoded)\n",
        "        return decoded, encoded, classified\n",
        "\n",
        "\n",
        "def train_base_model(model, train_loader, val_loader, num_epochs):\n",
        "      print(\"Training base model\")\n",
        "      model.to(device)\n",
        "      loss_weight = 0.8\n",
        "      reconstruction_criterion = nn.MSELoss()\n",
        "      classification_criterion = nn.CrossEntropyLoss()\n",
        "      optimizer = optim.Adam(model.parameters(), lr=learning_rate)\n",
        "\n",
        "      for epoch in range(num_epochs):\n",
        "          model.train()\n",
        "          train_loss = 0.0\n",
        "          train_correct = 0\n",
        "          train_total = 0\n",
        "          for batch in train_loader:\n",
        "              inputs, labels = batch\n",
        "              inputs, labels = inputs.to(device), labels.to(device)\n",
        "              optimizer.zero_grad()\n",
        "              reconstructed, embedded, classified = model(inputs)\n",
        "              reconstruction_loss = reconstruction_criterion(reconstructed, inputs)\n",
        "              classification_loss = classification_criterion(classified, labels)\n",
        "              loss = (1-loss_weight)*reconstruction_loss + loss_weight*classification_loss\n",
        "              loss.backward()\n",
        "              optimizer.step()\n",
        "              train_loss += loss.item()\n",
        "\n",
        "              # Calculate accuracy\n",
        "              _, predicted = torch.max(classified.data, 1)\n",
        "              train_total += labels.size(0)\n",
        "              train_correct += (predicted == labels).sum().item()\n",
        "\n",
        "          train_accuracy = train_correct / train_total\n",
        "\n",
        "          # Validation\n",
        "          model.eval()\n",
        "          val_loss = 0.0\n",
        "          val_correct = 0\n",
        "          val_total = 0\n",
        "          with torch.no_grad():\n",
        "              for batch in val_loader:\n",
        "                  inputs, labels = batch\n",
        "                  inputs, labels = inputs.to(device), labels.to(device)\n",
        "                  reconstructed, embedded, classified = model(inputs)\n",
        "                  reconstruction_loss = reconstruction_criterion(reconstructed, inputs)\n",
        "                  classification_loss = classification_criterion(classified, labels)\n",
        "                  loss = (1-loss_weight)*reconstruction_loss + loss_weight*classification_loss\n",
        "                  val_loss += loss.item()\n",
        "\n",
        "                  # Calculate accuracy\n",
        "                  _, predicted = torch.max(classified.data, 1)\n",
        "                  val_total += labels.size(0)\n",
        "                  val_correct += (predicted == labels).sum().item()\n",
        "\n",
        "          val_accuracy = val_correct / val_total\n",
        "\n",
        "          print(f\"Epoch {epoch+1}/{num_epochs}\")\n",
        "          print(f\"Train Loss: {train_loss/len(train_loader):.4f}, Train Accuracy: {train_accuracy*100:.2f}%\")\n",
        "          print(f\"Val Loss: {val_loss/len(val_loader):.4f}, Val Accuracy: {val_accuracy*100:.2f}%\")\n",
        "          print(\"--------------------\")"
      ],
      "metadata": {
        "id": "JlfmWgm0zpl6"
      },
      "execution_count": 4,
      "outputs": []
    },
    {
      "cell_type": "code",
      "source": [
        "# Evaluation function for mnist (computer ex 1)\n",
        "def evaluate_mnist(model, test_loader):\n",
        "    model.eval()\n",
        "    correct = 0\n",
        "    total = 0\n",
        "    all_preds = []\n",
        "    all_labels = []\n",
        "    with torch.no_grad():\n",
        "        for inputs, labels in test_loader:\n",
        "            inputs, labels = inputs.to(device), labels.to(device)\n",
        "            reconstructed, embedded, classified = model(inputs)\n",
        "            _, predicted = torch.max(classified.data, 1)\n",
        "            total += labels.size(0)\n",
        "            correct += (predicted == labels).sum().item()\n",
        "            all_preds.extend(predicted.cpu().numpy()) # concat\n",
        "            all_labels.extend(labels.cpu().numpy()) # concat\n",
        "\n",
        "    accuracy = correct / total\n",
        "    conf_matrix = confusion_matrix(all_labels, all_preds)\n",
        "    return accuracy, conf_matrix"
      ],
      "metadata": {
        "id": "hH4ZlFhdHPsx"
      },
      "execution_count": 5,
      "outputs": []
    },
    {
      "cell_type": "code",
      "source": [
        "class TemperatureScalingModel(torch.nn.Module):\n",
        "    def __init__(self, model, base_temperature):\n",
        "        super(TemperatureScalingModel, self).__init__()\n",
        "        self.model = model\n",
        "        self.temperature = torch.nn.Parameter(torch.ones(1) * base_temperature)\n",
        "\n",
        "    def forward(self, input):\n",
        "        decoded, encoded, logits = self.model(input)\n",
        "        return decoded, encoded, self.temperature_scale(logits)\n",
        "\n",
        "    def temperature_scale(self, logits):\n",
        "        # Scale the logits by dividing by the learned temperature parameter\n",
        "        return logits / self.temperature\n",
        "\n",
        "    def predict(self, input):\n",
        "        decoded, encoded, logits = self.model(input)\n",
        "        calibrated_logits = self.temperature_scale(logits)\n",
        "        return decoded, encoded, F.softmax(calibrated_logits, dim=1)  # Return calibrated probabilities\n",
        "\n",
        "def temperature_scaling_calibration(model, data_loader, val_loader, criterion, optimizer, epoches=15):\n",
        "      print(\"Temperature Scaling Calibration\")\n",
        "      model.train()\n",
        "      model.to(device)\n",
        "      loss_arr = []\n",
        "      base_accuracy, _ = evaluate_mnist(model.model, val_loader)\n",
        "      print(f\"Base Accuracy on validation set: {base_accuracy*100:.2f}%\")\n",
        "      for epoch in tqdm(range(1, epoches+1)):  # Iterate over a few epochs to find the best temperature\n",
        "          running_loss = 0.0\n",
        "          for inputs, labels in data_loader:\n",
        "              inputs, labels = inputs.to(device), labels.to(device)\n",
        "\n",
        "              optimizer.zero_grad()\n",
        "              _, _, logits = model(inputs)\n",
        "\n",
        "              loss = criterion(logits, labels)\n",
        "              loss.backward()\n",
        "              optimizer.step()\n",
        "              running_loss += loss.item()\n",
        "\n",
        "          loss_arr.append(running_loss/len(data_loader))\n",
        "          # Calculate accuracy on validation, to verify the calibration didn't hurt the base model preformance\n",
        "          if epoch % 5 == 0:\n",
        "              accuracy, _ = evaluate_mnist(model, val_loader)\n",
        "              print(f'Epoch [{epoch}/{epoches}], Calibration Loss: {running_loss/len(data_loader)}, Validation Accuracy after scaling: {accuracy*100:.2f}%')\n",
        "\n",
        "      return loss_arr"
      ],
      "metadata": {
        "id": "ALx1IxFItR_7"
      },
      "execution_count": 6,
      "outputs": []
    },
    {
      "cell_type": "code",
      "source": [
        "def eval_model(model, data_loader, device, threshold):\n",
        "    \"\"\" Evaluation function for the OSR task.\n",
        "    Given your OSR predictions, comptues the accuracy on MNIST, OOD set and both.\n",
        "    Note - this function does NOT computes the MNIST baseline accruacy.\n",
        "    Returns:\n",
        "     - acc_mnist\n",
        "     - acc_ood\n",
        "     - acc_total\n",
        "    \"\"\"\n",
        "\n",
        "    # Ensure model is in evaluation mode\n",
        "    model.eval()\n",
        "\n",
        "    correct_mnist = 0\n",
        "    total_mnist = 0\n",
        "    correct_ood = 0\n",
        "    total_ood = 0\n",
        "\n",
        "    # Initialize lists to store predicted and true labels for confusion matrix\n",
        "    all_preds = []\n",
        "    all_labels = []\n",
        "    all_original_predictions = []\n",
        "    all_data = []\n",
        "\n",
        "    # misclassified_ood_as_digit = []\n",
        "\n",
        "    # No need to track gradients for evaluation, saves memory and computations\n",
        "    with torch.no_grad():\n",
        "        for data, labels in data_loader:\n",
        "            data, labels = data.to(device), labels.to(device)\n",
        "\n",
        "            ### Modify output if needed ###\n",
        "            _, _, probabilities = model.predict(data)\n",
        "            # Get the maximum probability for each image in the batch\n",
        "            max_probs, predicted = torch.max(probabilities, dim=1)\n",
        "            # Classify images with low confidence (max_probs < threshold) as label 10\n",
        "            unknown = (max_probs < threshold)\n",
        "            predicted[unknown] = 10\n",
        "            # Check for OOD samples misclassified as digit\n",
        "            # ood_mask = labels == 10\n",
        "            # misclassified_mask = (predicted == 4) & ood_mask\n",
        "            # misclassified_ood_as_digit.extend(data[misclassified_mask].cpu())\n",
        "\n",
        "            # y pred should be a vector of size (N_batch,) -> [5, 2, ..., 10]\n",
        "            # and not one-hot. You can handle this either in your model or here.\n",
        "\n",
        "            # Assuming the model returns an (N_batch, 11) size output\n",
        "            # probas, y_pred = torch.max(outputs, 1)\n",
        "\n",
        "            # Assuming the model retuns the predicted label (N_batch, )\n",
        "\t          # y_pred = outputs\n",
        "\n",
        "            # Split MNIST and OOD predictions and labels\n",
        "            # Assuming numerical labels, which is MNIST/CIFAR datasets default\n",
        "            # Note: Not one-hot!\n",
        "            mask_mnist = labels < 10\n",
        "            mask_ood = ~mask_mnist\n",
        "            labels_mnist = labels[mask_mnist]\n",
        "            labels_ood = labels[mask_ood]\n",
        "\n",
        "            pred_mnist = predicted[mask_mnist]\n",
        "            pred_ood = predicted[mask_ood]\n",
        "\n",
        "            total_mnist += labels_mnist.size(0)\n",
        "            total_ood += labels_ood.size(0)\n",
        "            correct_mnist += (pred_mnist == labels_mnist).sum().item()\n",
        "            correct_ood += (pred_ood == labels_ood).sum().item()\n",
        "\n",
        "            # Store predicted and true labels for confusion matrix\n",
        "            all_preds.extend(predicted.cpu().numpy())\n",
        "            all_labels.extend(labels.cpu().numpy())\n",
        "\n",
        "    acc_mnist = correct_mnist / total_mnist\n",
        "    acc_ood = correct_ood / total_ood\n",
        "    acc_total = (correct_mnist + correct_ood) / (total_mnist + total_ood)\n",
        "\n",
        "    return acc_mnist, acc_ood, acc_total, np.array(all_preds), np.array(all_labels)#, misclassified_ood_as_digit"
      ],
      "metadata": {
        "id": "imAqeAGEulsE"
      },
      "execution_count": 7,
      "outputs": []
    },
    {
      "cell_type": "code",
      "source": [
        "# Train handeling\n",
        "\n",
        "if is_training: # Load the relevant weights and only perform evaluation\n",
        "    print(\"Loading models\")\n",
        "    base_model = BaselineAutoencoder()\n",
        "    calibrated_model = TemperatureScalingModel(base_model, base_temperature)\n",
        "    calibrated_model.load_state_dict(torch.load('calibrated_model_weights.pth'))\n",
        "    calibrated_model.to(device)\n",
        "\n",
        "else: # Need to train the models\n",
        "    base_model = BaselineAutoencoder()\n",
        "    train_base_model(base_model, train_loader, val_loader, number_of_epochs)\n",
        "    print()\n",
        "    calibrated_model = TemperatureScalingModel(base_model, base_temperature)\n",
        "    criterion_calib = torch.nn.CrossEntropyLoss()\n",
        "    optimizer_calib = torch.optim.Adam([calibrated_model.temperature], lr=learning_rate*0.05)\n",
        "    for param in base_model.parameters():\n",
        "          param.requires_grad = False # \"Freez\" the weights of the base model\n",
        "    calib_loss = temperature_scaling_calibration(calibrated_model, train_loader, val_loader, criterion_calib, optimizer_calib)\n",
        "    plt.xlabel('Epoch')\n",
        "    plt.ylabel('Loss')\n",
        "    plt.title('Traning loss across Epochs')\n",
        "    plt.plot(calib_loss)\n",
        "    plt.show()\n",
        "    torch.save(calibrated_model.state_dict(), 'calibrated_model_weights.pth')\n"
      ],
      "metadata": {
        "colab": {
          "base_uri": "https://localhost:8080/",
          "height": 1000,
          "referenced_widgets": [
            "f2ff5556f50e473a8478494ab2248b7d",
            "9d93e46a79254e3ebb63097d2d80431a",
            "8c0aecbda93446d393abd3d126378800",
            "958a6cce96f045f4bd4ece203c3d19c5",
            "17f919b523f84bf3a18da48289c71e7e",
            "66ec8abb69ce4b03922d76cb3106398e",
            "bccb6c0bffa44570ba5e5cfe908d9251",
            "4ad03c237ae746bb8bab2e1795caf0be",
            "75c4b052f0284525b0e6059d5df8819e",
            "3aaf95122ad2468fafb8338448c496ac",
            "e635488c28884a449d406ddbce8af8c3"
          ]
        },
        "id": "Fvq8Bj6QbqGG",
        "outputId": "0b1cb5d2-9b9b-428a-ef01-2dd9f38320ff"
      },
      "execution_count": 8,
      "outputs": [
        {
          "output_type": "stream",
          "name": "stdout",
          "text": [
            "Training base model\n",
            "Epoch 1/5\n",
            "Train Loss: 1.6052, Train Accuracy: 40.84%\n",
            "Val Loss: 1.0938, Val Accuracy: 65.25%\n",
            "--------------------\n",
            "Epoch 2/5\n",
            "Train Loss: 0.7360, Train Accuracy: 79.11%\n",
            "Val Loss: 0.5310, Val Accuracy: 87.25%\n",
            "--------------------\n",
            "Epoch 3/5\n",
            "Train Loss: 0.4309, Train Accuracy: 91.14%\n",
            "Val Loss: 0.4053, Val Accuracy: 91.85%\n",
            "--------------------\n",
            "Epoch 4/5\n",
            "Train Loss: 0.3316, Train Accuracy: 94.38%\n",
            "Val Loss: 0.3244, Val Accuracy: 93.95%\n",
            "--------------------\n",
            "Epoch 5/5\n",
            "Train Loss: 0.2701, Train Accuracy: 96.49%\n",
            "Val Loss: 0.3089, Val Accuracy: 94.75%\n",
            "--------------------\n",
            "\n",
            "Temperature Scaling Calibration\n",
            "Base Accuracy on validation set: 95.00%\n"
          ]
        },
        {
          "output_type": "display_data",
          "data": {
            "text/plain": [
              "  0%|          | 0/15 [00:00<?, ?it/s]"
            ],
            "application/vnd.jupyter.widget-view+json": {
              "version_major": 2,
              "version_minor": 0,
              "model_id": "f2ff5556f50e473a8478494ab2248b7d"
            }
          },
          "metadata": {}
        },
        {
          "output_type": "stream",
          "name": "stdout",
          "text": [
            "Epoch [5/15], Calibration Loss: 0.11716610565781593, Validation Accuracy after scaling: 95.10%\n",
            "Epoch [10/15], Calibration Loss: 0.12213141843676567, Validation Accuracy after scaling: 95.00%\n",
            "Epoch [15/15], Calibration Loss: 0.11748761031776667, Validation Accuracy after scaling: 95.05%\n"
          ]
        },
        {
          "output_type": "display_data",
          "data": {
            "text/plain": [
              "<Figure size 640x480 with 1 Axes>"
            ],
            "image/png": "[encoded data removed]"
          },
          "metadata": {}
        }
      ]
    },
    {
      "cell_type": "code",
      "source": [
        "# Evaluate the basic model (Computer Exercise 1)\n",
        "accuracy, conf_matrix = evaluate_mnist(base_model, mnist_test_data_loader)\n",
        "print(f\"Baseline Accuracy on MNIST test set: {accuracy*100:.2f}%\")\n",
        "print()\n",
        "\n",
        "# Plot confusion matrix\n",
        "plt.figure(figsize=(10, 8))\n",
        "sns.heatmap(conf_matrix, annot=True, fmt='d', cmap='Blues')\n",
        "plt.title('Confusion Matrix')\n",
        "plt.xlabel('Predicted')\n",
        "plt.ylabel('True')\n",
        "plt.show()"
      ],
      "metadata": {
        "colab": {
          "base_uri": "https://localhost:8080/",
          "height": 755
        },
        "id": "sfAO-XIkebb5",
        "outputId": "63953865-fb0d-4ffc-deb4-2646ef034fab"
      },
      "execution_count": 9,
      "outputs": [
        {
          "output_type": "stream",
          "name": "stdout",
          "text": [
            "Baseline Accuracy on MNIST test set: 97.33%\n",
            "\n"
          ]
        },
        {
          "output_type": "display_data",
          "data": {
            "text/plain": [
              "<Figure size 1000x800 with 2 Axes>"
            ],
            "image/png": "[encoded data removed]"
          },
          "metadata": {}
        }
      ]
    },
    {
      "cell_type": "code",
      "source": [
        "# Classify samples as known or unknown (Computer Exercise 2)\n",
        "acc_mnist, acc_ood, acc_total, osr_preds, osr_labels = eval_model(calibrated_model, comb_test_data_loader, device, boundary_threshold)\n",
        "print(f'MNIST Accuracy: {acc_mnist*100:.2f}%')\n",
        "print(f'OOD Accuracy: {acc_ood*100:.2f}%')\n",
        "print(f'Total Accuracy: {acc_total*100:.2f}%')\n",
        "print()\n",
        "\n",
        "# Plot OSR confusion matrix\n",
        "osr_conf_matrix = confusion_matrix(osr_labels, osr_preds)\n",
        "plt.figure(figsize=(12, 10))\n",
        "sns.heatmap(osr_conf_matrix, annot=True, fmt='d', cmap='Blues')\n",
        "plt.title('OSR Confusion Matrix')\n",
        "plt.xlabel('Predicted')\n",
        "plt.ylabel('True')\n",
        "plt.show()\n",
        "\n",
        "print()\n",
        "\n",
        "osr_preds[osr_preds <= 9] = 0\n",
        "osr_preds[osr_preds == 10] = 1\n",
        "osr_labels[osr_labels <= 9] = 0\n",
        "osr_labels[osr_labels == 10] = 1\n",
        "\n",
        "osr_conf_matrix = confusion_matrix(osr_labels, osr_preds)\n",
        "plt.figure(figsize=(6, 5))\n",
        "sns.heatmap(osr_conf_matrix, annot=True, fmt='d', cmap='Blues')\n",
        "plt.title('OSR Confusion Matrix, \"Known\"=0 \"Unknown\"=1')\n",
        "plt.xlabel('Predicted')\n",
        "plt.ylabel('True')\n",
        "plt.show()"
      ],
      "metadata": {
        "id": "vMm-vBX-EYK0",
        "colab": {
          "base_uri": "https://localhost:8080/",
          "height": 1000
        },
        "outputId": "50900704-6572-4514-8c58-5b49a1d83daf"
      },
      "execution_count": 10,
      "outputs": [
        {
          "output_type": "stream",
          "name": "stdout",
          "text": [
            "MNIST Accuracy: 89.91%\n",
            "OOD Accuracy: 99.98%\n",
            "Total Accuracy: 94.95%\n",
            "\n"
          ]
        },
        {
          "output_type": "display_data",
          "data": {
            "text/plain": [
              "<Figure size 1200x1000 with 2 Axes>"
            ],
            "image/png": "[encoded data removed]"
          },
          "metadata": {}
        },
        {
          "output_type": "stream",
          "name": "stdout",
          "text": [
            "\n"
          ]
        },
        {
          "output_type": "display_data",
          "data": {
            "text/plain": [
              "<Figure size 600x500 with 2 Axes>"
            ],
            "image/png": "[encoded data removed]"
          },
          "metadata": {}
        }
      ]
    },
    {
      "cell_type": "code",
      "source": [
        "# # Visualize up to 5 OOD images misclassified as digit\n",
        "# digit = 4\n",
        "# num_images = min(5, len(misclassified_ood_as_digit))\n",
        "# if num_images > 0:\n",
        "#     plt.figure(figsize=(15, 3))\n",
        "#     for i in range(num_images):\n",
        "#         plt.subplot(1, 5, i+1)\n",
        "#         plt.imshow(misclassified_ood_as_digit[i].squeeze(), cmap='gray')\n",
        "#         plt.title(f'OOD as {digit} ({i+1})')\n",
        "#         plt.axis('off')\n",
        "#     plt.suptitle(f'OOD Images Misclassified as Digit {digit}')\n",
        "#     plt.show()\n",
        "# else:\n",
        "#     print(f\"No OOD images were misclassified as digit {digit}.\")"
      ],
      "metadata": {
        "id": "FfhF6bHlGywW"
      },
      "execution_count": 11,
      "outputs": []
    }
  ]
}